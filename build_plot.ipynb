{
 "cells": [
  {
   "cell_type": "code",
   "execution_count": null,
   "metadata": {},
   "outputs": [],
   "source": [
    "%matplotlib inline\n",
    "import matplotlib.pyplot as plt"
   ]
  },
  {
   "cell_type": "code",
   "execution_count": null,
   "metadata": {},
   "outputs": [],
   "source": [
    "in_data = \"performance/inputs/1_N_32\"\n",
    "req_sum = 39502694955"
   ]
  },
  {
   "cell_type": "code",
   "execution_count": null,
   "metadata": {},
   "outputs": [],
   "source": [
    "with open(in_data, \"r\") as f:\n",
    "    numbers = sorted([int(x.rstrip()) for x in f.readlines()])"
   ]
  },
  {
   "cell_type": "code",
   "execution_count": null,
   "metadata": {},
   "outputs": [],
   "source": [
    "def accumulate_sum(lst):\n",
    "    \"\"\"Return accumulated sum list.\"\"\"\n",
    "    if len(lst) == 1:\n",
    "        return lst\n",
    "    accumulated_sum = [lst[0]]\n",
    "    for i in range(1, len(lst)):\n",
    "        accumulated_sum.append(accumulated_sum[i - 1] + lst[i])\n",
    "    return accumulated_sum\n",
    "\n",
    "\n",
    "def shift_right(arr):\n",
    "    \"\"\"Shift accumulated sum.\"\"\"\n",
    "    start = arr[0]\n",
    "    end = arr[-1]\n",
    "    ans = [e - start for e in arr[1:]]\n",
    "    ans.append(end)\n",
    "    return ans\n",
    "\n",
    "\n",
    "f_min = numbers[:]\n",
    "f_max = numbers[::-1]\n",
    "f_min_acc = accumulate_sum(f_min)\n",
    "f_max_acc = accumulate_sum(f_max)\n",
    "req_line = [req_sum for _ in range(len(f_min))]"
   ]
  },
  {
   "cell_type": "code",
   "execution_count": null,
   "metadata": {},
   "outputs": [],
   "source": [
    "plt.figure(figsize=(20,10))\n",
    "plt.grid(which=\"both\")\n",
    "f_max_acc_sh = f_max_acc.copy()\n",
    "for num, shift in enumerate(range(len(f_max))):\n",
    "    f_max_acc_sh = shift_right(f_max_acc_sh)\n",
    "    to_plot = [x for x in f_max_acc_sh if x < req_sum]\n",
    "    plt.plot(to_plot, \"bo\", color=\"grey\")\n",
    "    plt.plot(to_plot, color=\"grey\")\n",
    "plt.plot(f_min_acc, \"bo\", color=\"blue\")\n",
    "plt.plot(f_min_acc, color=\"blue\")\n",
    "plt.plot(f_max_acc, \"bo\", color=\"red\")\n",
    "plt.plot(f_max_acc, color=\"red\")\n",
    "plt.plot(req_line, \"bo\", color=\"black\")\n",
    "plt.plot(req_line, color=\"black\")\n",
    "# plt.xlim(96, 102)\n",
    "# plt.ylim(9900328089, 10100328089)"
   ]
  }
 ],
 "metadata": {
  "kernelspec": {
   "display_name": "Python 3",
   "language": "python",
   "name": "python3"
  },
  "language_info": {
   "codemirror_mode": {
    "name": "ipython",
    "version": 3
   },
   "file_extension": ".py",
   "mimetype": "text/x-python",
   "name": "python",
   "nbconvert_exporter": "python",
   "pygments_lexer": "ipython3",
   "version": "3.7.3"
  }
 },
 "nbformat": 4,
 "nbformat_minor": 2
}
