{
 "cells": [
  {
   "cell_type": "code",
   "execution_count": 52,
   "metadata": {},
   "outputs": [
    {
     "name": "stdout",
     "output_type": "stream",
     "text": [
      "Stuff imported\n"
     ]
    }
   ],
   "source": [
    "%matplotlib inline\n",
    "import matplotlib.pyplot as plt\n",
    "import subprocess\n",
    "import os\n",
    "import sys\n",
    "from collections import defaultdict\n",
    "print(\"Stuff imported\")"
   ]
  },
  {
   "cell_type": "code",
   "execution_count": 54,
   "metadata": {},
   "outputs": [
    {
     "data": {
      "text/plain": [
       "[1000, 5000, 10000, 50000, 80000]"
      ]
     },
     "execution_count": 54,
     "metadata": {},
     "output_type": "execute_result"
    }
   ],
   "source": [
    "executable = \"../SSP.py\"\n",
    "cmd_template = \"{} {} 0 {} -o\"  # exe infile 0 sum once\n",
    "in_dir = os.path.join(os.getcwd(), \"inputs\")\n",
    "ans_dir = os.path.join(os.getcwd(), \"answers\")\n",
    "in_files = os.listdir(in_dir)\n",
    "data_points = sorted(set(int(x.split(\"_\")[3]) for x in in_files))\n",
    "data_points"
   ]
  },
  {
   "cell_type": "code",
   "execution_count": 55,
   "metadata": {},
   "outputs": [
    {
     "name": "stdout",
     "output_type": "stream",
     "text": [
      "File 1/50 data point 1000 tottime 0.000333\n",
      "File 2/50 data point 5000 tottime 0.004097\n",
      "ERROR /Users/kirilenk/Code/subset_sum/performance/inputs/8_test_N_50000\n",
      "File 4/50 data point 5000 tottime 0.003304\n",
      "File 5/50 data point 1000 tottime 0.000284\n",
      "File 6/50 data point 10000 tottime 0.013049\n",
      "ERROR /Users/kirilenk/Code/subset_sum/performance/inputs/9_test_N_50000\n",
      "File 8/50 data point 5000 tottime 0.003365\n",
      "File 9/50 data point 10000 tottime 0.013013\n",
      "File 10/50 data point 1000 tottime 0.000433\n",
      "File 11/50 data point 80000 tottime 12.861026\n",
      "File 12/50 data point 80000 tottime 12.701567\n",
      "File 13/50 data point 10000 tottime 0.012616\n",
      "File 14/50 data point 1000 tottime 0.000221\n",
      "File 15/50 data point 10000 tottime 0.012808\n",
      "File 16/50 data point 5000 tottime 0.003415\n",
      "ERROR /Users/kirilenk/Code/subset_sum/performance/inputs/4_test_N_50000\n",
      "ERROR /Users/kirilenk/Code/subset_sum/performance/inputs/3_test_N_50000\n",
      "File 19/50 data point 10000 tottime 0.014641\n",
      "File 20/50 data point 10000 tottime 0.013908\n",
      "File 21/50 data point 80000 tottime 12.860336\n",
      "File 22/50 data point 5000 tottime 0.003423\n",
      "File 23/50 data point 80000 tottime 12.767488\n",
      "ERROR /Users/kirilenk/Code/subset_sum/performance/inputs/2_test_N_50000\n",
      "ERROR /Users/kirilenk/Code/subset_sum/performance/inputs/5_test_N_50000\n",
      "File 26/50 data point 1000 tottime 0.000221\n",
      "File 27/50 data point 10000 tottime 0.013281\n",
      "File 28/50 data point 10000 tottime 0.013427\n",
      "File 29/50 data point 80000 tottime 12.842426\n",
      "File 30/50 data point 80000 tottime 12.728716\n",
      "File 31/50 data point 1000 tottime 0.000271\n",
      "ERROR /Users/kirilenk/Code/subset_sum/performance/inputs/7_test_N_50000\n",
      "ERROR /Users/kirilenk/Code/subset_sum/performance/inputs/0_test_N_50000\n",
      "File 34/50 data point 5000 tottime 0.003339\n",
      "File 35/50 data point 80000 tottime 12.83718\n",
      "File 36/50 data point 80000 tottime 12.798445\n",
      "File 37/50 data point 1000 tottime 0.000223\n",
      "File 38/50 data point 5000 tottime 0.003575\n",
      "File 39/50 data point 10000 tottime 0.013095\n",
      "File 40/50 data point 10000 tottime 0.012712\n",
      "File 41/50 data point 5000 tottime 0.003496\n",
      "File 42/50 data point 1000 tottime 0.000272\n",
      "ERROR /Users/kirilenk/Code/subset_sum/performance/inputs/1_test_N_50000\n",
      "ERROR /Users/kirilenk/Code/subset_sum/performance/inputs/6_test_N_50000\n",
      "File 45/50 data point 1000 tottime 0.00022\n",
      "File 46/50 data point 5000 tottime 0.00331\n",
      "File 47/50 data point 80000 tottime 14.225228\n",
      "File 48/50 data point 5000 tottime 0.003399\n",
      "File 49/50 data point 80000 tottime 12.862257\n",
      "File 50/50 data point 1000 tottime 0.000253\n"
     ]
    }
   ],
   "source": [
    "data_point_results = defaultdict(list)\n",
    "\n",
    "in_files_num = len(in_files)\n",
    "for num, in_file in enumerate(in_files, 1):\n",
    "    data_point = int(in_file.split(\"_\")[3])\n",
    "    in_path = os.path.join(in_dir, in_file)\n",
    "    ans_path = os.path.join(ans_dir, in_file)\n",
    "    f = open(ans_path, \"r\")\n",
    "    lines = f.readlines()\n",
    "    f.close()\n",
    "    sum_line = lines[1]\n",
    "    sum_ = int(sum_line.split()[-1])\n",
    "    cmd_ = cmd_template.format(executable, in_path, sum_)\n",
    "    cmd_out = subprocess.check_output(cmd_, shell=True).decode(\"utf-8\")\n",
    "    cmd_out_data = [l for l in cmd_out.split(\"\\n\") if not l.startswith(\"# No\") and not l.startswith(\"#IN\")]\n",
    "    if all(not l.startswith(\"[\") for l in cmd_out_data):\n",
    "        print(\"ERROR {}\".format(in_path))\n",
    "        continue\n",
    "    sum_elem = [int(x) for x in cmd_out_data[1][1:-1].replace(\",\", \"\").split()]\n",
    "    sum_out = sum(sum_elem)\n",
    "    time_elem = cmd_out_data[2].split()[-1]\n",
    "    time_real = time_elem.split(\":\")\n",
    "    h = int(time_real[0]) * 60 * 60\n",
    "    m = int(time_real[1]) * 60\n",
    "    s = float(time_real[2])\n",
    "    tottime = h + m + s\n",
    "    data_point_results[data_point].append(tottime)\n",
    "    print(\"File {}/{} data point {} tottime {}\".format(num, in_files_num, data_point, tottime))"
   ]
  },
  {
   "cell_type": "raw",
   "metadata": {},
   "source": [
    "print(data_point_results)"
   ]
  },
  {
   "cell_type": "code",
   "execution_count": 56,
   "metadata": {},
   "outputs": [
    {
     "data": {
      "text/plain": [
       "defaultdict(list,\n",
       "            {1000: [0.000333,\n",
       "              0.000284,\n",
       "              0.000433,\n",
       "              0.000221,\n",
       "              0.000221,\n",
       "              0.000271,\n",
       "              0.000223,\n",
       "              0.000272,\n",
       "              0.00022,\n",
       "              0.000253],\n",
       "             5000: [0.004097,\n",
       "              0.003304,\n",
       "              0.003365,\n",
       "              0.003415,\n",
       "              0.003423,\n",
       "              0.003339,\n",
       "              0.003575,\n",
       "              0.003496,\n",
       "              0.00331,\n",
       "              0.003399],\n",
       "             10000: [0.013049,\n",
       "              0.013013,\n",
       "              0.012616,\n",
       "              0.012808,\n",
       "              0.014641,\n",
       "              0.013908,\n",
       "              0.013281,\n",
       "              0.013427,\n",
       "              0.013095,\n",
       "              0.012712],\n",
       "             80000: [12.861026,\n",
       "              12.701567,\n",
       "              12.860336,\n",
       "              12.767488,\n",
       "              12.842426,\n",
       "              12.728716,\n",
       "              12.83718,\n",
       "              12.798445,\n",
       "              14.225228,\n",
       "              12.862257]})"
      ]
     },
     "execution_count": 56,
     "metadata": {},
     "output_type": "execute_result"
    }
   ],
   "source": [
    "for data_point, values in data_point_results.items():\n",
    "    "
   ]
  }
 ],
 "metadata": {
  "kernelspec": {
   "display_name": "Python 3",
   "language": "python",
   "name": "python3"
  },
  "language_info": {
   "codemirror_mode": {
    "name": "ipython",
    "version": 3
   },
   "file_extension": ".py",
   "mimetype": "text/x-python",
   "name": "python",
   "nbconvert_exporter": "python",
   "pygments_lexer": "ipython3",
   "version": "3.7.3"
  }
 },
 "nbformat": 4,
 "nbformat_minor": 2
}
