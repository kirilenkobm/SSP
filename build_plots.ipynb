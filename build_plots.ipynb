{
 "cells": [
  {
   "cell_type": "code",
   "execution_count": null,
   "metadata": {},
   "outputs": [],
   "source": [
    "%matplotlib inline\n",
    "import matplotlib.pyplot as plt\n",
    "import subprocess\n",
    "import os\n",
    "from collections import defaultdict\n",
    "from datetime import datetime as dt\n",
    "from collections import Counter\n",
    "from math import log"
   ]
  },
  {
   "cell_type": "code",
   "execution_count": null,
   "metadata": {},
   "outputs": [],
   "source": [
    "DATA_DIR = \"performance\"\n",
    "DATASETS = [x for x in os.listdir(DATA_DIR) if x.startswith(\"test\")]\n",
    "print(len(DATASETS))\n",
    "print(DATASETS[:10])"
   ]
  },
  {
   "cell_type": "code",
   "execution_count": null,
   "metadata": {},
   "outputs": [],
   "source": [
    "arr_sizes = []\n",
    "ans_fracts = []\n",
    "max_vals = []\n",
    "answers = []\n",
    "found = []\n",
    "runtimes = []\n",
    "densities = []\n",
    "failed_cmds = []\n",
    "\n",
    "\n",
    "datasets_num = len(DATASETS)\n",
    "for num, dataset in enumerate(DATASETS):\n",
    "    dt_0 = dt.now()\n",
    "    dataset_path = os.path.join(DATA_DIR, dataset)\n",
    "    dataset_info = dataset.split(\"_\")\n",
    "    arr_size = int(dataset_info[1])\n",
    "    ans_fract = int(dataset_info[2])\n",
    "    max_val = int(dataset_info[3])\n",
    "    dataset_files = os.listdir(dataset_path)\n",
    "    for dfile in dataset_files:\n",
    "        dfile_path = os.path.join(dataset_path, dfile)\n",
    "        with open(dfile_path, \"r\") as f:\n",
    "            answer = int(f.readlines()[0].split()[-1])\n",
    "        # TODO: smarter output parsing\n",
    "        cmd = f\"./SSP.py {dfile_path} {answer} -d --gd\"\n",
    "        t_0 = dt.now()\n",
    "        try:\n",
    "            cmd_out = subprocess.check_output(cmd, shell=True).decode(\"utf-8\").split(\"\\n\")\n",
    "            runtime = dt.now() - t_0\n",
    "            res = False if \"None\" in cmd_out[-1] else True\n",
    "            density = float(cmd_out[1].split()[-1])\n",
    "            arr_sizes.append(arr_size)\n",
    "            ans_fracts.append(ans_fract)\n",
    "            max_vals.append(max_val)\n",
    "            answers.append(answer)\n",
    "            found.append(res)\n",
    "            runtimes.append(runtime)\n",
    "            densities.append(density)\n",
    "        except subprocess.CalledProcessError:\n",
    "            failed_cmds.append(cmd)\n",
    "    print(f\"Dataset {num + 1} / {datasets_num} done in {dt.now() - dt_0}\")"
   ]
  },
  {
   "cell_type": "code",
   "execution_count": null,
   "metadata": {},
   "outputs": [],
   "source": [
    "runtimes_sec = []\n",
    "for rt in runtimes:\n",
    "    rt_data = str(rt).split(\":\")\n",
    "    s = float(rt_data[2])\n",
    "    m = int(rt_data[1])\n",
    "    h = int(rt_data[0])\n",
    "    tottime = h * 60 * 60 + m * 60 + s\n",
    "    runtimes_sec.append(tottime)"
   ]
  },
  {
   "cell_type": "code",
   "execution_count": null,
   "metadata": {},
   "outputs": [],
   "source": [
    "print(\"\\n\".join(failed_cmds))"
   ]
  },
  {
   "cell_type": "code",
   "execution_count": null,
   "metadata": {},
   "outputs": [],
   "source": [
    "f = open(\"results.tsv\", \"w\")\n",
    "f.write(\"arr_size\\tans_fract\\tmaxval\\tanswer\\tfound\\truntime\\tdensity\\n\")\n",
    "for elem in zip(arr_sizes, ans_fracts, max_vals, answers, found, runtimes, densities):\n",
    "    f.write(\"\\t\".join([str(x) for x in elem]))\n",
    "    f.write(\"\\n\")\n",
    "f.close()"
   ]
  },
  {
   "cell_type": "code",
   "execution_count": null,
   "metadata": {},
   "outputs": [],
   "source": [
    "plt.hist(densities, bins=100)\n",
    "plt.xlabel(\"Density\")\n",
    "plt.show()\n",
    "\n",
    "print(f\"Min density: {min(densities)}; max: {max(densities)}\")"
   ]
  },
  {
   "cell_type": "code",
   "execution_count": null,
   "metadata": {},
   "outputs": [],
   "source": [
    "print(Counter(found))"
   ]
  },
  {
   "cell_type": "code",
   "execution_count": null,
   "metadata": {},
   "outputs": [],
   "source": [
    "fig = plt.figure(figsize=(15, 10))\n",
    "ax_1 = fig.add_subplot(1, 1, 1)\n",
    "ax_1.scatter(arr_sizes, runtimes_sec, color='blue', alpha=0.25)\n",
    "ax_1.set_xlabel(\"array size\")\n",
    "ax_1.set_ylabel('runtime, sec')\n",
    "ax_1.set_ylim(0, 20)\n",
    "ax_1.grid()\n",
    "plt.show()"
   ]
  },
  {
   "cell_type": "code",
   "execution_count": null,
   "metadata": {},
   "outputs": [],
   "source": [
    "fig = plt.figure(figsize=(15, 10))\n",
    "ax_1 = fig.add_subplot(1, 1, 1)\n",
    "ax_1.scatter(arr_sizes, runtimes_sec, color='blue', alpha=0.25)\n",
    "ax_1.set_xlabel(\"array size\")\n",
    "ax_1.set_ylabel('runtime, sec')\n",
    "ax_1.set_ylim(0.05, 0.2)\n",
    "ax_1.grid()\n",
    "\n",
    "plt.show()"
   ]
  },
  {
   "cell_type": "code",
   "execution_count": null,
   "metadata": {},
   "outputs": [],
   "source": [
    "longs = [x for x in zip(arr_sizes, runtimes_sec) if x[1] > 0.2]\n",
    "long_rt = [x[1] for x in longs]\n",
    "long_as = [x[0] for x in longs]\n",
    "print(len(longs))"
   ]
  },
  {
   "cell_type": "code",
   "execution_count": null,
   "metadata": {},
   "outputs": [],
   "source": [
    "fig = plt.figure(figsize=(15, 10))\n",
    "ax_1 = fig.add_subplot(1, 1, 1)\n",
    "ax_1.scatter(long_as, long_rt, color='blue', alpha=0.25, label='worst cases')\n",
    "ax_1.set_xlabel(\"array size\")\n",
    "ax_1.set_ylabel('runtime, sec')\n",
    "ax_1.set_xlim(0, 2000)\n",
    "ax_1.set_ylim(0, 150)\n",
    "ax_1.grid()\n",
    "penta = lambda x: x ** 3 / 50000000\n",
    "\n",
    "X = list(range(1, 2000, 10))\n",
    "Y = [penta(x) for x in X]\n",
    "ax_1.plot(X, Y, color=\"red\", label=\"x^3 / C\")\n",
    "ax_1.legend()\n",
    "plt.show()"
   ]
  }
 ],
 "metadata": {
  "kernelspec": {
   "display_name": "Python 3",
   "language": "python",
   "name": "python3"
  },
  "language_info": {
   "codemirror_mode": {
    "name": "ipython",
    "version": 3
   },
   "file_extension": ".py",
   "mimetype": "text/x-python",
   "name": "python",
   "nbconvert_exporter": "python",
   "pygments_lexer": "ipython3",
   "version": "3.7.3"
  }
 },
 "nbformat": 4,
 "nbformat_minor": 2
}
