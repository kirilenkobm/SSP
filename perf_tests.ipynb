{
 "cells": [
  {
   "cell_type": "code",
   "execution_count": 1,
   "metadata": {},
   "outputs": [
    {
     "name": "stdout",
     "output_type": "stream",
     "text": [
      "Stuff imported\n"
     ]
    }
   ],
   "source": [
    "%matplotlib inline\n",
    "import matplotlib.pyplot as plt\n",
    "import subprocess\n",
    "import os\n",
    "import sys\n",
    "from collections import defaultdict\n",
    "import numpy as np\n",
    "print(\"Stuff imported\")"
   ]
  },
  {
   "cell_type": "code",
   "execution_count": 2,
   "metadata": {},
   "outputs": [],
   "source": [
    "executable = \"./SSP.py\"\n",
    "cmd_template = \"{} {} 0 {} -o\"  # exe infile 0 sum once\n",
    "perf_dir = os.path.join(os.getcwd(), \"performance\")\n",
    "in_dir = os.path.join(perf_dir, \"inputs\")\n",
    "ans_dir = os.path.join(perf_dir,  \"answers\")\n",
    "in_files = os.listdir(in_dir)"
   ]
  },
  {
   "cell_type": "code",
   "execution_count": 3,
   "metadata": {},
   "outputs": [
    {
     "name": "stdout",
     "output_type": "stream",
     "text": [
      "Process 1/50 N 100 Expected sum 15860 got 15860 tottime 0.239 sec\n",
      "Process 2/50 N 100 Expected sum 2008915 got 2008915 tottime 0.49 sec\n",
      "Process 3/50 N 100 Expected sum 17973 got 17973 tottime 0.184 sec\n",
      "Process 4/50 N 100 Expected sum 19753 got 19753 tottime 0.287 sec\n",
      "Process 5/50 N 100 Expected sum 1785376 got 1785376 tottime 0.332 sec\n",
      "Process 6/50 N 100 Expected sum 23348 got 23348 tottime 0.261 sec\n",
      "Process 7/50 N 100 Expected sum 22757 got 22757 tottime 0.166 sec\n",
      "Process 8/50 N 100 Expected sum 1948565 got 1948565 tottime 0.373 sec\n",
      "Process 9/50 N 100 Expected sum 19220 got 19220 tottime 0.184 sec\n",
      "Process 10/50 N 100 Expected sum 1979274 got 1979274 tottime 0.295 sec\n",
      "Process 11/50 N 100 Expected sum 15829 got 15829 tottime 0.187 sec\n",
      "Process 12/50 N 100 Expected sum 1960638 got 1960638 tottime 0.475 sec\n",
      "Process 13/50 N 100 Expected sum 24615 got 24615 tottime 0.278 sec\n",
      "Process 14/50 N 100 Expected sum 15915 got 15915 tottime 0.193 sec\n",
      "Process 15/50 N 100 Expected sum 2103805 got 2103805 tottime 0.456 sec\n",
      "Process 16/50 N 100 Expected sum 2035178 got 2035178 tottime 0.534 sec\n",
      "Process 17/50 N 100 Expected sum 21380 got 21380 tottime 0.18 sec\n",
      "Process 18/50 N 100 Expected sum 18922 got 18922 tottime 0.195 sec\n",
      "Process 19/50 N 100 Expected sum 18507 got 18507 tottime 0.183 sec\n",
      "Process 20/50 N 100 Expected sum 1986717 got 1986717 tottime 0.22 sec\n",
      "Process 21/50 N 100 Expected sum 2528120 got 2528120 tottime 0.801 sec\n",
      "Process 22/50 N 100 Expected sum 18340 got 18340 tottime 0.274 sec\n",
      "Process 23/50 N 100 Expected sum 1929659 got 1929659 tottime 0.307 sec\n",
      "Process 24/50 N 100 Expected sum 19900 got 19900 tottime 0.184 sec\n",
      "Process 25/50 N 100 Expected sum 18344 got 18344 tottime 0.19 sec\n",
      "Process 26/50 N 100 Expected sum 2089640 got 2089640 tottime 0.323 sec\n",
      "Process 27/50 N 100 Expected sum 2382312 got 2382312 tottime 0.246 sec\n",
      "Process 28/50 N 100 Expected sum 22577 got 22577 tottime 0.182 sec\n",
      "Process 29/50 N 100 Expected sum 1769772 got 1769772 tottime 0.399 sec\n",
      "Process 30/50 N 100 Expected sum 18614 got 18614 tottime 0.186 sec\n",
      "Process 31/50 N 100 Expected sum 16363 got 16363 tottime 0.185 sec\n",
      "Process 32/50 N 100 Expected sum 1743030 got 1743030 tottime 0.228 sec\n",
      "Process 33/50 N 100 Expected sum 2353321 got 2353321 tottime 0.183 sec\n",
      "Process 34/50 N 100 Expected sum 1784573 got 1784573 tottime 0.23 sec\n",
      "Process 35/50 N 100 Expected sum 19181 got 19181 tottime 0.184 sec\n",
      "Process 36/50 N 100 Expected sum 18965 got 18965 tottime 0.193 sec\n",
      "Process 37/50 N 100 Expected sum 2455144 got 2455144 tottime 0.778 sec\n",
      "Process 38/50 N 100 Expected sum 1593188 got 1593188 tottime 0.309 sec\n",
      "Process 39/50 N 100 Expected sum 18201 got 18201 tottime 0.217 sec\n",
      "Process 40/50 N 100 Expected sum 2419297 got 2419297 tottime 0.426 sec\n",
      "Process 41/50 N 100 Expected sum 18409 got 18409 tottime 0.176 sec\n",
      "Process 42/50 N 100 Expected sum 1963087 got 1963087 tottime 0.29 sec\n",
      "Process 43/50 N 100 Expected sum 19237 got 19237 tottime 0.177 sec\n",
      "Process 44/50 N 100 Expected sum 2338433 got 2338433 tottime 0.601 sec\n",
      "Process 45/50 N 100 Expected sum 1890673 got 1890673 tottime 0.237 sec\n",
      "Process 46/50 N 100 Expected sum 19053 got 19053 tottime 0.182 sec\n",
      "Process 47/50 N 100 Expected sum 2163654 got 2163654 tottime 0.289 sec\n",
      "Process 48/50 N 100 Expected sum 1798786 got 1798786 tottime 0.427 sec\n",
      "Process 49/50 N 100 Expected sum 20614 got 20614 tottime 0.177 sec\n",
      "Process 50/50 N 100 Expected sum 1997628 got 1997628 tottime 0.349 sec\n"
     ]
    }
   ],
   "source": [
    "data_point_results = defaultdict(list)\n",
    "\n",
    "in_files_num = len(in_files)\n",
    "for num, in_file in enumerate(in_files, 1):\n",
    "# if False:  # just to avoid git flooding\n",
    "    in_path = os.path.join(in_dir, in_file)\n",
    "    ans_path = os.path.join(ans_dir, in_file)\n",
    "    data_point = int(in_file.split(\"_\")[-1])\n",
    "    f = open(ans_path, \"r\")\n",
    "    target_sum = 0\n",
    "    target_len = 0\n",
    "    for line in f:\n",
    "        if line.startswith(\"Sum \"):\n",
    "            target_sum = int(line[:-1].split()[-1])\n",
    "        elif line.startswith(\"Sum_len\"):\n",
    "            target_len = int(line[:-1].split()[-1])\n",
    "        else:\n",
    "            answer_lst = [int(x) for x in line[1:-2].replace(\",\", \"\").split()]\n",
    "    f.close()\n",
    "    cmd = \"time ./SSP.py {} {}\".format(in_path, target_sum)\n",
    "    out = subprocess.check_output(cmd, shell=True, stderr=subprocess.STDOUT).decode(\"utf-8\").split(\"\\n\")\n",
    "    res_line__ = [l for l in out if l.startswith(\"[\")]\n",
    "    if len(res_line__) == 0:\n",
    "        print(\"FAILED FOR {}\".format(cmd))\n",
    "        continue\n",
    "    res_line = res_line__[0]\n",
    "    result = [int(x) for x in res_line[1:-1].replace(\",\", \"\").split()]\n",
    "    ans_sum = sum(result)\n",
    "    if ans_sum != target_sum:\n",
    "        print(\"{} WRONG RESULT EXPECTED {} GOT {}\".format(cmd, target_sum, ans_sum))\n",
    "        continue\n",
    "    time_line_ = [l for l in out if l.startswith(\"real\")][0]\n",
    "    time_ = time_line_.split(\"\\t\")[1].split(\"m\")\n",
    "    m = int(time_[0])\n",
    "    s = float(time_[1][:-1])\n",
    "    # h, m, s = int(time_[0]) * 3600, int(time_[1]) * 60, float(time_[2])\n",
    "    tottime = m + s\n",
    "    print(\"Process {}/{} N {} Expected sum {} got {} tottime {} sec\"\n",
    "          \"\".format(num, in_files_num, data_point, target_sum, ans_sum, tottime))\n",
    "    data_point_results[data_point].append(tottime)\n"
   ]
  },
  {
   "cell_type": "code",
   "execution_count": 15,
   "metadata": {},
   "outputs": [],
   "source": [
    "file_to_group = {f: f.split(\"_\")[1] for f in in_files}\n",
    "group_to_file = defaultdict(list)\n",
    "C_values, N_values = [], []\n",
    "for fle, grp in file_to_group.items():\n",
    "    group_to_file[grp].append(fle)\n",
    "for fle in group_to_file[\"C\"]:\n",
    "    path = os.path.join(in_dir, fle)\n",
    "    f = open(path, \"r\")\n",
    "    values = [int(x.rstrip()) for x in f.readlines()]\n",
    "    C_values.extend(values)\n",
    "for fle in group_to_file[\"N\"]:\n",
    "    path = os.path.join(in_dir, fle)\n",
    "    f = open(path, \"r\")\n",
    "    values = [int(x.rstrip()) for x in f.readlines()]\n",
    "    N_values.extend(values)"
   ]
  },
  {
   "cell_type": "code",
   "execution_count": 18,
   "metadata": {},
   "outputs": [
    {
     "data": {
      "image/png": "[encoded data removed]",
      "text/plain": [
       "<Figure size 432x288 with 1 Axes>"
      ]
     },
     "metadata": {
      "needs_background": "light"
     },
     "output_type": "display_data"
    }
   ],
   "source": [
    "plt.hist(N_values, bins=100)\n",
    "plt.show()"
   ]
  },
  {
   "cell_type": "code",
   "execution_count": 19,
   "metadata": {},
   "outputs": [
    {
     "data": {
      "image/png": "[encoded data removed]",
      "text/plain": [
       "<Figure size 432x288 with 1 Axes>"
      ]
     },
     "metadata": {
      "needs_background": "light"
     },
     "output_type": "display_data"
    }
   ],
   "source": [
    "plt.hist(C_values, bins=100)\n",
    "plt.show()"
   ]
  },
  {
   "cell_type": "code",
   "execution_count": null,
   "metadata": {},
   "outputs": [],
   "source": []
  }
 ],
 "metadata": {
  "kernelspec": {
   "display_name": "Python 3",
   "language": "python",
   "name": "python3"
  },
  "language_info": {
   "codemirror_mode": {
    "name": "ipython",
    "version": 3
   },
   "file_extension": ".py",
   "mimetype": "text/x-python",
   "name": "python",
   "nbconvert_exporter": "python",
   "pygments_lexer": "ipython3",
   "version": "3.7.3"
  }
 },
 "nbformat": 4,
 "nbformat_minor": 2
}
