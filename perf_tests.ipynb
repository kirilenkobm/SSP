{
 "cells": [
  {
   "cell_type": "code",
   "execution_count": 4,
   "metadata": {},
   "outputs": [
    {
     "name": "stdout",
     "output_type": "stream",
     "text": [
      "Stuff imported\n"
     ]
    }
   ],
   "source": [
    "%matplotlib inline\n",
    "import matplotlib.pyplot as plt\n",
    "import subprocess\n",
    "import os\n",
    "import sys\n",
    "from collections import defaultdict\n",
    "import numpy as np\n",
    "print(\"Stuff imported\")"
   ]
  },
  {
   "cell_type": "code",
   "execution_count": 5,
   "metadata": {},
   "outputs": [],
   "source": [
    "executable = \"./SSP.py\"\n",
    "cmd_template = \"{} {} 0 {} -o\"  # exe infile 0 sum once\n",
    "perf_dir = os.path.join(os.getcwd(), \"performance\")\n",
    "in_dir = os.path.join(perf_dir, \"inputs\")\n",
    "ans_dir = os.path.join(perf_dir,  \"answers\")\n",
    "in_files = os.listdir(in_dir)"
   ]
  },
  {
   "cell_type": "code",
   "execution_count": 6,
   "metadata": {},
   "outputs": [
    {
     "name": "stdout",
     "output_type": "stream",
     "text": [
      "Process 1/50 N 10000 Expected sum 813232 got 813232 tottime 0.521 sec\n",
      "Process 2/50 N 10000 Expected sum 809374 got 809374 tottime 0.311 sec\n",
      "Process 3/50 N 10000 Expected sum 810513 got 810513 tottime 0.287 sec\n",
      "Process 4/50 N 10000 Expected sum 797766 got 797766 tottime 0.313 sec\n",
      "Process 5/50 N 10000 Expected sum 798592 got 798592 tottime 0.336 sec\n",
      "Process 6/50 N 10000 Expected sum 822200 got 822200 tottime 0.272 sec\n",
      "Process 7/50 N 10000 Expected sum 768486 got 768486 tottime 0.308 sec\n",
      "Process 8/50 N 10000 Expected sum 812946 got 812946 tottime 0.27 sec\n",
      "Process 9/50 N 10000 Expected sum 842619 got 842619 tottime 0.277 sec\n",
      "Process 10/50 N 10000 Expected sum 818700 got 818700 tottime 0.262 sec\n",
      "Process 11/50 N 10000 Expected sum 778633 got 778633 tottime 0.281 sec\n",
      "Process 12/50 N 10000 Expected sum 818743 got 818743 tottime 0.273 sec\n",
      "Process 13/50 N 10000 Expected sum 816212 got 816212 tottime 0.278 sec\n",
      "Process 14/50 N 10000 Expected sum 783971 got 783971 tottime 0.277 sec\n",
      "Process 15/50 N 10000 Expected sum 838553 got 838553 tottime 0.278 sec\n",
      "Process 16/50 N 10000 Expected sum 780757 got 780757 tottime 0.266 sec\n",
      "Process 17/50 N 10000 Expected sum 764857 got 764857 tottime 0.265 sec\n",
      "Process 18/50 N 10000 Expected sum 822790 got 822790 tottime 0.268 sec\n",
      "Process 19/50 N 10000 Expected sum 785306 got 785306 tottime 0.27 sec\n",
      "Process 20/50 N 10000 Expected sum 805552 got 805552 tottime 0.339 sec\n",
      "Process 21/50 N 10000 Expected sum 745143 got 745143 tottime 0.28 sec\n",
      "Process 22/50 N 10000 Expected sum 824775 got 824775 tottime 0.3 sec\n",
      "Process 23/50 N 10000 Expected sum 808090 got 808090 tottime 0.291 sec\n",
      "Process 24/50 N 10000 Expected sum 813404 got 813404 tottime 0.282 sec\n",
      "Process 25/50 N 10000 Expected sum 805347 got 805347 tottime 0.28 sec\n",
      "Process 26/50 N 10000 Expected sum 801264 got 801264 tottime 0.283 sec\n",
      "Process 27/50 N 10000 Expected sum 796384 got 796384 tottime 0.282 sec\n",
      "Process 28/50 N 10000 Expected sum 804278 got 804278 tottime 0.276 sec\n",
      "Process 29/50 N 10000 Expected sum 813605 got 813605 tottime 0.445 sec\n",
      "Process 30/50 N 10000 Expected sum 848990 got 848990 tottime 0.355 sec\n",
      "Process 31/50 N 10000 Expected sum 844282 got 844282 tottime 0.282 sec\n",
      "Process 32/50 N 10000 Expected sum 822656 got 822656 tottime 0.316 sec\n",
      "Process 33/50 N 10000 Expected sum 809339 got 809339 tottime 0.29 sec\n",
      "Process 34/50 N 10000 Expected sum 840181 got 840181 tottime 0.284 sec\n",
      "Process 35/50 N 10000 Expected sum 793303 got 793303 tottime 0.278 sec\n",
      "Process 36/50 N 10000 Expected sum 764438 got 764438 tottime 0.271 sec\n",
      "Process 37/50 N 10000 Expected sum 805188 got 805188 tottime 0.282 sec\n",
      "Process 38/50 N 10000 Expected sum 801246 got 801246 tottime 0.28 sec\n",
      "Process 39/50 N 10000 Expected sum 791146 got 791146 tottime 0.302 sec\n",
      "Process 40/50 N 10000 Expected sum 786014 got 786014 tottime 0.423 sec\n",
      "Process 41/50 N 10000 Expected sum 797469 got 797469 tottime 0.371 sec\n",
      "Process 42/50 N 10000 Expected sum 799018 got 799018 tottime 0.29 sec\n",
      "Process 43/50 N 10000 Expected sum 753117 got 753117 tottime 0.292 sec\n",
      "Process 44/50 N 10000 Expected sum 835377 got 835377 tottime 0.275 sec\n",
      "Process 45/50 N 10000 Expected sum 787123 got 787123 tottime 0.267 sec\n",
      "Process 46/50 N 10000 Expected sum 822658 got 822658 tottime 0.271 sec\n",
      "Process 47/50 N 10000 Expected sum 813515 got 813515 tottime 0.285 sec\n",
      "Process 48/50 N 10000 Expected sum 806136 got 806136 tottime 0.278 sec\n",
      "Process 49/50 N 10000 Expected sum 828914 got 828914 tottime 0.28 sec\n",
      "Process 50/50 N 10000 Expected sum 830255 got 830255 tottime 0.276 sec\n"
     ]
    }
   ],
   "source": [
    "data_point_results = defaultdict(list)\n",
    "\n",
    "in_files_num = len(in_files)\n",
    "for num, in_file in enumerate(in_files, 1):\n",
    "# if False:  # just to avoid git flooding\n",
    "    in_path = os.path.join(in_dir, in_file)\n",
    "    ans_path = os.path.join(ans_dir, in_file)\n",
    "    data_point = int(in_file.split(\"_\")[-1])\n",
    "    f = open(ans_path, \"r\")\n",
    "    target_sum = 0\n",
    "    target_len = 0\n",
    "    for line in f:\n",
    "        if line.startswith(\"Sum \"):\n",
    "            target_sum = int(line[:-1].split()[-1])\n",
    "        elif line.startswith(\"Sum_len\"):\n",
    "            target_len = int(line[:-1].split()[-1])\n",
    "        else:\n",
    "            answer_lst = [int(x) for x in line[1:-2].replace(\",\", \"\").split()]\n",
    "    f.close()\n",
    "    cmd = \"time ./SSP.py {} {}\".format(in_path, target_sum)\n",
    "    out = subprocess.check_output(cmd, shell=True, stderr=subprocess.STDOUT).decode(\"utf-8\").split(\"\\n\")\n",
    "    res_line__ = [l for l in out if l.startswith(\"[\")]\n",
    "    if len(res_line__) == 0:\n",
    "        print(\"FAILED FOR {}\".format(cmd))\n",
    "        continue\n",
    "    res_line = res_line__[0]\n",
    "    result = [int(x) for x in res_line[1:-1].replace(\",\", \"\").split()]\n",
    "    ans_sum = sum(result)\n",
    "    if ans_sum != target_sum:\n",
    "        print(\"{} WRONG RESULT EXPECTED {} GOT {}\".format(cmd, target_sum, ans_sum))\n",
    "        continue\n",
    "    time_line_ = [l for l in out if l.startswith(\"real\")][0]\n",
    "    time_ = time_line_.split(\"\\t\")[1].split(\"m\")\n",
    "    m = int(time_[0])\n",
    "    s = float(time_[1][:-1])\n",
    "    # h, m, s = int(time_[0]) * 3600, int(time_[1]) * 60, float(time_[2])\n",
    "    tottime = m + s\n",
    "    print(\"Process {}/{} N {} Expected sum {} got {} tottime {} sec\"\n",
    "          \"\".format(num, in_files_num, data_point, target_sum, ans_sum, tottime))\n",
    "    data_point_results[data_point].append(tottime)\n"
   ]
  },
  {
   "cell_type": "code",
   "execution_count": null,
   "metadata": {},
   "outputs": [],
   "source": [
    "file_to_group = {f: f.split(\"_\")[1] for f in in_files}\n",
    "group_to_file = defaultdict(list)\n",
    "C_values, N_values = [], []\n",
    "for fle, grp in file_to_group.items():\n",
    "    group_to_file[grp].append(fle)\n",
    "for fle in group_to_file[\"C\"]:\n",
    "    path = os.path.join(in_dir, fle)\n",
    "    f = open(path, \"r\")\n",
    "    values = [int(x.rstrip()) for x in f.readlines()]\n",
    "    C_values.extend(values)\n",
    "for fle in group_to_file[\"N\"]:\n",
    "    path = os.path.join(in_dir, fle)\n",
    "    f = open(path, \"r\")\n",
    "    values = [int(x.rstrip()) for x in f.readlines()]\n",
    "    N_values.extend(values)"
   ]
  },
  {
   "cell_type": "code",
   "execution_count": null,
   "metadata": {},
   "outputs": [],
   "source": [
    "plt.hist(N_values, bins=100)\n",
    "plt.show()"
   ]
  },
  {
   "cell_type": "code",
   "execution_count": null,
   "metadata": {},
   "outputs": [],
   "source": [
    "plt.hist(C_values, bins=100)\n",
    "plt.show()"
   ]
  },
  {
   "cell_type": "code",
   "execution_count": null,
   "metadata": {},
   "outputs": [],
   "source": []
  }
 ],
 "metadata": {
  "kernelspec": {
   "display_name": "Python 3",
   "language": "python",
   "name": "python3"
  },
  "language_info": {
   "codemirror_mode": {
    "name": "ipython",
    "version": 3
   },
   "file_extension": ".py",
   "mimetype": "text/x-python",
   "name": "python",
   "nbconvert_exporter": "python",
   "pygments_lexer": "ipython3",
   "version": "3.7.3"
  }
 },
 "nbformat": 4,
 "nbformat_minor": 2
}
