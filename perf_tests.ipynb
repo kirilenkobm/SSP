{
 "cells": [
  {
   "cell_type": "code",
   "execution_count": 2,
   "metadata": {},
   "outputs": [
    {
     "name": "stdout",
     "output_type": "stream",
     "text": [
      "Stuff imported\n"
     ]
    }
   ],
   "source": [
    "%matplotlib inline\n",
    "import matplotlib.pyplot as plt\n",
    "import subprocess\n",
    "import os\n",
    "import sys\n",
    "from collections import defaultdict\n",
    "import numpy as np\n",
    "print(\"Stuff imported\")"
   ]
  },
  {
   "cell_type": "code",
   "execution_count": 3,
   "metadata": {},
   "outputs": [],
   "source": [
    "executable = \"./SSP.py\"\n",
    "cmd_template = \"{} {} 0 {} -o\"  # exe infile 0 sum once\n",
    "perf_dir = os.path.join(os.getcwd(), \"performance\")\n",
    "in_dir = os.path.join(perf_dir, \"inputs\")\n",
    "ans_dir = os.path.join(perf_dir,  \"answers\")\n",
    "in_files = os.listdir(in_dir)"
   ]
  },
  {
   "cell_type": "code",
   "execution_count": 12,
   "metadata": {},
   "outputs": [
    {
     "name": "stdout",
     "output_type": "stream",
     "text": [
      "Halt\n"
     ]
    }
   ],
   "source": [
    "data_point_results = defaultdict(list)\n",
    "print(\"Halt\")\n",
    "\n",
    "\n",
    "in_files_num = len(in_files)\n",
    "# for num, in_file in enumerate(in_files, 1):\n",
    "if False:  # just to avoid git flooding\n",
    "    in_path = os.path.join(in_dir, in_file)\n",
    "    ans_path = os.path.join(ans_dir, in_file)\n",
    "    data_point = int(in_file.split(\"_\")[-1])\n",
    "    f = open(ans_path, \"r\")\n",
    "    target_sum = 0\n",
    "    target_len = 0\n",
    "    for line in f:\n",
    "        if line.startswith(\"Sum \"):\n",
    "            target_sum = int(line[:-1].split()[-1])\n",
    "        elif line.startswith(\"Sum_len\"):\n",
    "            target_len = int(line[:-1].split()[-1])\n",
    "        else:\n",
    "            answer_lst = [int(x) for x in line[1:-2].replace(\",\", \"\").split()]\n",
    "    f.close()\n",
    "    cmd = \"time ./SSP.py {} {}\".format(in_path, target_sum)\n",
    "    out = subprocess.check_output(cmd, shell=True, stderr=subprocess.STDOUT).decode(\"utf-8\").split(\"\\n\")\n",
    "    res_line__ = [l for l in out if l.startswith(\"[\")]\n",
    "    if len(res_line__) == 0:\n",
    "        print(\"FAILED FOR {}\".format(cmd))\n",
    "        continue\n",
    "    res_line = res_line__[0]\n",
    "    result = [int(x) for x in res_line[1:-1].replace(\",\", \"\").split()]\n",
    "    ans_sum = sum(result)\n",
    "    if ans_sum != target_sum:\n",
    "        print(\"{} WRONG RESULT EXPECTED {} GOT {}\".format(cmd, target_sum, ans_sum))\n",
    "        continue\n",
    "    time_line_ = [l for l in out if l.startswith(\"real\")][0]\n",
    "    time_ = time_line_.split(\"\\t\")[1].split(\"m\")\n",
    "    m = int(time_[0])\n",
    "    s = float(time_[1][:-1])\n",
    "    # h, m, s = int(time_[0]) * 3600, int(time_[1]) * 60, float(time_[2])\n",
    "    tottime = m + s\n",
    "    print(\"Process {}/{} N {} tottime {} sec\".format(num, in_files_num, data_point, tottime))\n",
    "    data_point_results[data_point].append(tottime)\n"
   ]
  },
  {
   "cell_type": "code",
   "execution_count": 8,
   "metadata": {},
   "outputs": [
    {
     "name": "stdout",
     "output_type": "stream",
     "text": [
      "100 0.21022\n",
      "1000 0.21424000000000004\n",
      "100000 0.36016\n",
      "10000 0.22264000000000003\n"
     ]
    }
   ],
   "source": [
    "for k, v in data_point_results.items():\n",
    "    v_np = np.array(v)\n",
    "    print(k, v_np.mean())"
   ]
  }
 ],
 "metadata": {
  "kernelspec": {
   "display_name": "Python 3",
   "language": "python",
   "name": "python3"
  },
  "language_info": {
   "codemirror_mode": {
    "name": "ipython",
    "version": 3
   },
   "file_extension": ".py",
   "mimetype": "text/x-python",
   "name": "python",
   "nbconvert_exporter": "python",
   "pygments_lexer": "ipython3",
   "version": "3.7.3"
  }
 },
 "nbformat": 4,
 "nbformat_minor": 2
}
