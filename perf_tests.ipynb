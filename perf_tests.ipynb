{
 "cells": [
  {
   "cell_type": "code",
   "execution_count": 7,
   "metadata": {},
   "outputs": [
    {
     "name": "stdout",
     "output_type": "stream",
     "text": [
      "Stuff imported\n"
     ]
    }
   ],
   "source": [
    "%matplotlib inline\n",
    "import matplotlib.pyplot as plt\n",
    "import subprocess\n",
    "import os\n",
    "import sys\n",
    "from collections import defaultdict\n",
    "import numpy as np\n",
    "print(\"Stuff imported\")"
   ]
  },
  {
   "cell_type": "code",
   "execution_count": 8,
   "metadata": {},
   "outputs": [],
   "source": [
    "executable = \"./SSP.py\"\n",
    "cmd_template = \"{} {} 0 {} -o\"  # exe infile 0 sum once\n",
    "perf_dir = os.path.join(os.getcwd(), \"performance\")\n",
    "in_dir = os.path.join(perf_dir, \"inputs\")\n",
    "ans_dir = os.path.join(perf_dir,  \"answers\")\n",
    "in_files = os.listdir(in_dir)"
   ]
  },
  {
   "cell_type": "code",
   "execution_count": 9,
   "metadata": {},
   "outputs": [
    {
     "name": "stdout",
     "output_type": "stream",
     "text": [
      "Process 1/100 N 10000 Expected sum 19707106 got 19707106 tottime 0.259 sec\n",
      "Process 2/100 N 10000 Expected sum 19782141 got 19782141 tottime 0.274 sec\n",
      "Process 3/100 N 10000 Expected sum 20175952 got 20175952 tottime 0.227 sec\n",
      "Process 4/100 N 10000 Expected sum 813232 got 813232 tottime 0.323 sec\n",
      "Process 5/100 N 10000 Expected sum 809374 got 809374 tottime 0.27 sec\n",
      "Process 6/100 N 10000 Expected sum 19829708 got 19829708 tottime 0.23 sec\n",
      "Process 7/100 N 10000 Expected sum 19627781 got 19627781 tottime 0.227 sec\n",
      "Process 8/100 N 10000 Expected sum 19977860 got 19977860 tottime 0.231 sec\n",
      "Process 9/100 N 10000 Expected sum 810513 got 810513 tottime 0.207 sec\n",
      "Process 10/100 N 10000 Expected sum 797766 got 797766 tottime 0.196 sec\n",
      "Process 11/100 N 10000 Expected sum 798592 got 798592 tottime 0.193 sec\n",
      "Process 12/100 N 10000 Expected sum 19560325 got 19560325 tottime 0.198 sec\n",
      "Process 13/100 N 10000 Expected sum 822200 got 822200 tottime 0.186 sec\n",
      "Process 14/100 N 10000 Expected sum 768486 got 768486 tottime 0.193 sec\n",
      "Process 15/100 N 10000 Expected sum 19587087 got 19587087 tottime 0.196 sec\n",
      "Process 16/100 N 10000 Expected sum 19951956 got 19951956 tottime 0.199 sec\n",
      "Process 17/100 N 10000 Expected sum 20322201 got 20322201 tottime 0.195 sec\n",
      "Process 18/100 N 10000 Expected sum 812946 got 812946 tottime 0.196 sec\n",
      "Process 19/100 N 10000 Expected sum 842619 got 842619 tottime 0.197 sec\n",
      "Process 20/100 N 10000 Expected sum 818700 got 818700 tottime 0.197 sec\n",
      "Process 21/100 N 10000 Expected sum 19966748 got 19966748 tottime 0.222 sec\n",
      "Process 22/100 N 10000 Expected sum 19901289 got 19901289 tottime 0.224 sec\n",
      "Process 23/100 N 10000 Expected sum 778633 got 778633 tottime 0.293 sec\n",
      "Process 24/100 N 10000 Expected sum 20184448 got 20184448 tottime 0.195 sec\n",
      "Process 25/100 N 10000 Expected sum 19715688 got 19715688 tottime 0.207 sec\n",
      "Process 26/100 N 10000 Expected sum 818743 got 818743 tottime 0.221 sec\n",
      "Process 27/100 N 10000 Expected sum 19721219 got 19721219 tottime 0.222 sec\n",
      "Process 28/100 N 10000 Expected sum 816212 got 816212 tottime 0.185 sec\n",
      "Process 29/100 N 10000 Expected sum 783971 got 783971 tottime 0.195 sec\n",
      "Process 30/100 N 10000 Expected sum 838553 got 838553 tottime 0.203 sec\n",
      "Process 31/100 N 10000 Expected sum 20203215 got 20203215 tottime 0.194 sec\n",
      "Process 32/100 N 10000 Expected sum 19667612 got 19667612 tottime 0.199 sec\n",
      "Process 33/100 N 10000 Expected sum 780757 got 780757 tottime 0.275 sec\n",
      "Process 34/100 N 10000 Expected sum 19680884 got 19680884 tottime 0.23 sec\n",
      "Process 35/100 N 10000 Expected sum 20263846 got 20263846 tottime 0.201 sec\n",
      "Process 36/100 N 10000 Expected sum 764857 got 764857 tottime 0.187 sec\n",
      "Process 37/100 N 10000 Expected sum 822790 got 822790 tottime 0.222 sec\n",
      "Process 38/100 N 10000 Expected sum 19312750 got 19312750 tottime 0.2 sec\n",
      "Process 39/100 N 10000 Expected sum 19950354 got 19950354 tottime 0.306 sec\n",
      "Process 40/100 N 10000 Expected sum 785306 got 785306 tottime 0.266 sec\n",
      "Process 41/100 N 10000 Expected sum 19624146 got 19624146 tottime 0.255 sec\n",
      "Process 42/100 N 10000 Expected sum 19924005 got 19924005 tottime 0.218 sec\n",
      "Process 43/100 N 10000 Expected sum 805552 got 805552 tottime 0.186 sec\n",
      "Process 44/100 N 10000 Expected sum 745143 got 745143 tottime 0.215 sec\n",
      "Process 45/100 N 10000 Expected sum 824775 got 824775 tottime 0.212 sec\n",
      "Process 46/100 N 10000 Expected sum 20022197 got 20022197 tottime 0.196 sec\n",
      "Process 47/100 N 10000 Expected sum 19701198 got 19701198 tottime 0.206 sec\n",
      "Process 48/100 N 10000 Expected sum 19881285 got 19881285 tottime 0.193 sec\n",
      "Process 49/100 N 10000 Expected sum 808090 got 808090 tottime 0.187 sec\n",
      "Process 50/100 N 10000 Expected sum 813404 got 813404 tottime 0.19 sec\n",
      "Process 51/100 N 10000 Expected sum 19666783 got 19666783 tottime 0.204 sec\n",
      "Process 52/100 N 10000 Expected sum 805347 got 805347 tottime 0.187 sec\n",
      "Process 53/100 N 10000 Expected sum 801264 got 801264 tottime 0.274 sec\n",
      "Process 54/100 N 10000 Expected sum 20039136 got 20039136 tottime 0.286 sec\n",
      "Process 55/100 N 10000 Expected sum 19630043 got 19630043 tottime 0.273 sec\n",
      "Process 56/100 N 10000 Expected sum 19560259 got 19560259 tottime 0.196 sec\n",
      "Process 57/100 N 10000 Expected sum 796384 got 796384 tottime 0.187 sec\n",
      "Process 58/100 N 10000 Expected sum 804278 got 804278 tottime 0.205 sec\n",
      "Process 59/100 N 10000 Expected sum 20174764 got 20174764 tottime 0.218 sec\n",
      "Process 60/100 N 10000 Expected sum 19647373 got 19647373 tottime 0.196 sec\n",
      "Process 61/100 N 10000 Expected sum 813605 got 813605 tottime 0.188 sec\n",
      "Process 62/100 N 10000 Expected sum 848990 got 848990 tottime 0.182 sec\n",
      "Process 63/100 N 10000 Expected sum 844282 got 844282 tottime 0.19 sec\n",
      "Process 64/100 N 10000 Expected sum 20072951 got 20072951 tottime 0.19 sec\n",
      "Process 65/100 N 10000 Expected sum 822656 got 822656 tottime 0.189 sec\n",
      "Process 66/100 N 10000 Expected sum 809339 got 809339 tottime 0.185 sec\n",
      "Process 67/100 N 10000 Expected sum 20448158 got 20448158 tottime 0.198 sec\n",
      "Process 68/100 N 10000 Expected sum 840181 got 840181 tottime 0.185 sec\n",
      "Process 69/100 N 10000 Expected sum 793303 got 793303 tottime 0.189 sec\n",
      "Process 70/100 N 10000 Expected sum 19980124 got 19980124 tottime 0.191 sec\n",
      "Process 71/100 N 10000 Expected sum 19869336 got 19869336 tottime 0.225 sec\n",
      "Process 72/100 N 10000 Expected sum 764438 got 764438 tottime 0.289 sec\n",
      "Process 73/100 N 10000 Expected sum 805188 got 805188 tottime 0.291 sec\n",
      "Process 74/100 N 10000 Expected sum 801246 got 801246 tottime 0.213 sec\n",
      "Process 75/100 N 10000 Expected sum 19706680 got 19706680 tottime 0.194 sec\n",
      "Process 76/100 N 10000 Expected sum 20370281 got 20370281 tottime 0.205 sec\n",
      "Process 77/100 N 10000 Expected sum 791146 got 791146 tottime 0.218 sec\n",
      "Process 78/100 N 10000 Expected sum 19938654 got 19938654 tottime 0.195 sec\n",
      "Process 79/100 N 10000 Expected sum 19982300 got 19982300 tottime 0.204 sec\n",
      "Process 80/100 N 10000 Expected sum 786014 got 786014 tottime 0.183 sec\n",
      "Process 81/100 N 10000 Expected sum 797469 got 797469 tottime 0.192 sec\n",
      "Process 82/100 N 10000 Expected sum 20190603 got 20190603 tottime 0.236 sec\n",
      "Process 83/100 N 10000 Expected sum 799018 got 799018 tottime 0.19 sec\n",
      "Process 84/100 N 10000 Expected sum 19772770 got 19772770 tottime 0.198 sec\n",
      "Process 85/100 N 10000 Expected sum 19868706 got 19868706 tottime 0.191 sec\n",
      "Process 86/100 N 10000 Expected sum 19924445 got 19924445 tottime 0.2 sec\n",
      "Process 87/100 N 10000 Expected sum 753117 got 753117 tottime 0.234 sec\n",
      "Process 88/100 N 10000 Expected sum 835377 got 835377 tottime 0.272 sec\n",
      "Process 89/100 N 10000 Expected sum 20120383 got 20120383 tottime 0.279 sec\n",
      "Process 90/100 N 10000 Expected sum 20132979 got 20132979 tottime 0.212 sec\n",
      "Process 91/100 N 10000 Expected sum 19723640 got 19723640 tottime 0.194 sec\n",
      "Process 92/100 N 10000 Expected sum 787123 got 787123 tottime 0.199 sec\n",
      "Process 93/100 N 10000 Expected sum 822658 got 822658 tottime 0.218 sec\n",
      "Process 94/100 N 10000 Expected sum 813515 got 813515 tottime 0.19 sec\n",
      "Process 95/100 N 10000 Expected sum 19962887 got 19962887 tottime 0.198 sec\n",
      "Process 96/100 N 10000 Expected sum 20234910 got 20234910 tottime 0.198 sec\n",
      "Process 97/100 N 10000 Expected sum 806136 got 806136 tottime 0.193 sec\n",
      "Process 98/100 N 10000 Expected sum 828914 got 828914 tottime 0.194 sec\n",
      "Process 99/100 N 10000 Expected sum 20163617 got 20163617 tottime 0.197 sec\n",
      "Process 100/100 N 10000 Expected sum 830255 got 830255 tottime 0.19 sec\n"
     ]
    }
   ],
   "source": [
    "data_point_results = defaultdict(list)\n",
    "\n",
    "in_files_num = len(in_files)\n",
    "for num, in_file in enumerate(in_files, 1):\n",
    "# if False:  # just to avoid git flooding\n",
    "    in_path = os.path.join(in_dir, in_file)\n",
    "    ans_path = os.path.join(ans_dir, in_file)\n",
    "    data_point = int(in_file.split(\"_\")[-1])\n",
    "    f = open(ans_path, \"r\")\n",
    "    target_sum = 0\n",
    "    target_len = 0\n",
    "    for line in f:\n",
    "        if line.startswith(\"Sum \"):\n",
    "            target_sum = int(line[:-1].split()[-1])\n",
    "        elif line.startswith(\"Sum_len\"):\n",
    "            target_len = int(line[:-1].split()[-1])\n",
    "        else:\n",
    "            answer_lst = [int(x) for x in line[1:-2].replace(\",\", \"\").split()]\n",
    "    f.close()\n",
    "    cmd = \"time ./SSP.py {} {}\".format(in_path, target_sum)\n",
    "    out = subprocess.check_output(cmd, shell=True, stderr=subprocess.STDOUT).decode(\"utf-8\").split(\"\\n\")\n",
    "    res_line__ = [l for l in out if l.startswith(\"[\")]\n",
    "    if len(res_line__) == 0:\n",
    "        print(\"FAILED FOR {}\".format(cmd))\n",
    "        continue\n",
    "    res_line = res_line__[0]\n",
    "    result = [int(x) for x in res_line[1:-1].replace(\",\", \"\").split()]\n",
    "    ans_sum = sum(result)\n",
    "    if ans_sum != target_sum:\n",
    "        print(\"{} WRONG RESULT EXPECTED {} GOT {}\".format(cmd, target_sum, ans_sum))\n",
    "        continue\n",
    "    time_line_ = [l for l in out if l.startswith(\"real\")][0]\n",
    "    time_ = time_line_.split(\"\\t\")[1].split(\"m\")\n",
    "    m = int(time_[0])\n",
    "    s = float(time_[1][:-1])\n",
    "    # h, m, s = int(time_[0]) * 3600, int(time_[1]) * 60, float(time_[2])\n",
    "    tottime = m + s\n",
    "    print(\"Process {}/{} N {} Expected sum {} got {} tottime {} sec\"\n",
    "          \"\".format(num, in_files_num, data_point, target_sum, ans_sum, tottime))\n",
    "    data_point_results[data_point].append(tottime)\n"
   ]
  },
  {
   "cell_type": "code",
   "execution_count": 10,
   "metadata": {},
   "outputs": [],
   "source": [
    "file_to_group = {f: f.split(\"_\")[1] for f in in_files}\n",
    "group_to_file = defaultdict(list)\n",
    "C_values, N_values = [], []\n",
    "for fle, grp in file_to_group.items():\n",
    "    group_to_file[grp].append(fle)\n",
    "for fle in group_to_file[\"C\"]:\n",
    "    path = os.path.join(in_dir, fle)\n",
    "    f = open(path, \"r\")\n",
    "    values = [int(x.rstrip()) for x in f.readlines()]\n",
    "    C_values.extend(values)\n",
    "for fle in group_to_file[\"N\"]:\n",
    "    path = os.path.join(in_dir, fle)\n",
    "    f = open(path, \"r\")\n",
    "    values = [int(x.rstrip()) for x in f.readlines()]\n",
    "    N_values.extend(values)"
   ]
  },
  {
   "cell_type": "code",
   "execution_count": 11,
   "metadata": {},
   "outputs": [
    {
     "data": {
      "image/png": "[encoded data removed]",
      "text/plain": [
       "<Figure size 432x288 with 1 Axes>"
      ]
     },
     "metadata": {
      "needs_background": "light"
     },
     "output_type": "display_data"
    }
   ],
   "source": [
    "plt.hist(N_values, bins=100)\n",
    "plt.show()"
   ]
  },
  {
   "cell_type": "code",
   "execution_count": 12,
   "metadata": {},
   "outputs": [
    {
     "data": {
      "image/png": "[encoded data removed]",
      "text/plain": [
       "<Figure size 432x288 with 1 Axes>"
      ]
     },
     "metadata": {
      "needs_background": "light"
     },
     "output_type": "display_data"
    }
   ],
   "source": [
    "plt.hist(C_values, bins=100)\n",
    "plt.show()"
   ]
  },
  {
   "cell_type": "code",
   "execution_count": null,
   "metadata": {},
   "outputs": [],
   "source": []
  }
 ],
 "metadata": {
  "kernelspec": {
   "display_name": "Python 3",
   "language": "python",
   "name": "python3"
  },
  "language_info": {
   "codemirror_mode": {
    "name": "ipython",
    "version": 3
   },
   "file_extension": ".py",
   "mimetype": "text/x-python",
   "name": "python",
   "nbconvert_exporter": "python",
   "pygments_lexer": "ipython3",
   "version": "3.7.3"
  }
 },
 "nbformat": 4,
 "nbformat_minor": 2
}
