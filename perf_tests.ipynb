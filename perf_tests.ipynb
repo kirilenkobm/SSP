{
 "cells": [
  {
   "cell_type": "code",
   "execution_count": 2,
   "metadata": {},
   "outputs": [
    {
     "name": "stdout",
     "output_type": "stream",
     "text": [
      "Stuff imported\n"
     ]
    }
   ],
   "source": [
    "%matplotlib inline\n",
    "import matplotlib.pyplot as plt\n",
    "import subprocess\n",
    "import os\n",
    "import sys\n",
    "from collections import defaultdict\n",
    "import numpy as np\n",
    "print(\"Stuff imported\")"
   ]
  },
  {
   "cell_type": "code",
   "execution_count": 3,
   "metadata": {},
   "outputs": [],
   "source": [
    "executable = \"./SSP.py\"\n",
    "cmd_template = \"{} {} 0 {} -o\"  # exe infile 0 sum once\n",
    "perf_dir = os.path.join(os.getcwd(), \"performance\")\n",
    "in_dir = os.path.join(perf_dir, \"inputs\")\n",
    "ans_dir = os.path.join(perf_dir,  \"answers\")\n",
    "in_files = os.listdir(in_dir)"
   ]
  },
  {
   "cell_type": "code",
   "execution_count": 17,
   "metadata": {},
   "outputs": [
    {
     "name": "stdout",
     "output_type": "stream",
     "text": [
      "Process 1/25 done with tottime 8e-05\n",
      "Process 2/25 done with tottime 9.7e-05\n",
      "Process 3/25 done with tottime 0.000183\n",
      "Process 4/25 done with tottime 8.9e-05\n",
      "Process 5/25 done with tottime 8.8e-05\n",
      "Process 6/25 done with tottime 6.6e-05\n",
      "Process 7/25 done with tottime 0.000102\n",
      "Process 8/25 done with tottime 9.6e-05\n",
      "Process 9/25 done with tottime 7.7e-05\n",
      "Process 10/25 done with tottime 0.000195\n",
      "Process 11/25 done with tottime 8e-05\n",
      "Process 12/25 done with tottime 0.000127\n",
      "Process 13/25 done with tottime 7.9e-05\n",
      "Process 14/25 done with tottime 9.5e-05\n",
      "Process 15/25 done with tottime 9e-05\n",
      "Process 16/25 done with tottime 8e-05\n",
      "Process 17/25 done with tottime 0.000173\n",
      "Process 18/25 done with tottime 7.9e-05\n",
      "Process 19/25 done with tottime 8.9e-05\n",
      "Process 20/25 done with tottime 7.4e-05\n",
      "Process 21/25 done with tottime 0.000104\n",
      "FAILED FOR ./SSP.py /Users/kirilenk/Code/subset_sum/performance/inputs/8_N_100 943\n",
      "Process 23/25 done with tottime 0.000112\n",
      "Process 24/25 done with tottime 0.000111\n",
      "Process 25/25 done with tottime 9.9e-05\n"
     ]
    }
   ],
   "source": [
    "data_point_results = defaultdict(list)\n",
    "\n",
    "in_files_num = len(in_files)\n",
    "for num, in_file in enumerate(in_files, 1):\n",
    "    in_path = os.path.join(in_dir, in_file)\n",
    "    ans_path = os.path.join(ans_dir, in_file)\n",
    "    data_point = int(in_file.split(\"_\")[-1])\n",
    "    f = open(ans_path, \"r\")\n",
    "    target_sum = 0\n",
    "    target_len = 0\n",
    "    for line in f:\n",
    "        if line.startswith(\"Sum \"):\n",
    "            target_sum = int(line[:-1].split()[-1])\n",
    "        elif line.startswith(\"Sum_len\"):\n",
    "            target_len = int(line[:-1].split()[-1])\n",
    "        else:\n",
    "            answer_lst = [int(x) for x in line[1:-2].replace(\",\", \"\").split()]\n",
    "    f.close()\n",
    "    cmd = \"./SSP.py {} {}\".format(in_path, target_sum)\n",
    "    out = subprocess.check_output(cmd, shell=True).decode(\"utf-8\").split(\"\\n\")\n",
    "    res_line__ = [l for l in out if l.startswith(\"[\")]\n",
    "    if len(res_line__) == 0:\n",
    "        print(\"FAILED FOR {}\".format(cmd))\n",
    "        continue\n",
    "    res_line = res_line__[0]\n",
    "    result = [int(x) for x in res_line[1:-1].replace(\",\", \"\").split()]\n",
    "    ans_sum = sum(result)\n",
    "    if ans_sum != target_sum:\n",
    "        print(\"{} WRONG RESULT\".format(cmd))\n",
    "        continue\n",
    "    time_line = [l for l in out if l.startswith(\"# Time\")][0]\n",
    "    time_ = time_line.split()[-1].split(\":\")\n",
    "    h, m, s = int(time_[0]) * 3600, int(time_[1]) * 60, float(time_[2])\n",
    "    tottime = h + m + s\n",
    "    print(\"Process {}/{} done with tottime {}\".format(num, in_files_num, tottime))\n",
    "    data_point_results[data_point].append(tottime)\n",
    "    # print(\"File {}/{} data point {} tottime {}\".format(num, in_files_num, data_point, tottime))"
   ]
  },
  {
   "cell_type": "code",
   "execution_count": null,
   "metadata": {},
   "outputs": [],
   "source": []
  }
 ],
 "metadata": {
  "kernelspec": {
   "display_name": "Python 3",
   "language": "python",
   "name": "python3"
  },
  "language_info": {
   "codemirror_mode": {
    "name": "ipython",
    "version": 3
   },
   "file_extension": ".py",
   "mimetype": "text/x-python",
   "name": "python",
   "nbconvert_exporter": "python",
   "pygments_lexer": "ipython3",
   "version": "3.7.3"
  }
 },
 "nbformat": 4,
 "nbformat_minor": 2
}
